{
 "cells": [
  {
   "cell_type": "code",
   "execution_count": 1,
   "metadata": {
    "collapsed": true
   },
   "outputs": [],
   "source": [
    "import pandas as pd\n",
    "import numpy as np\n",
    "import matplotlib.pyplot as plt\n",
    "import seaborn as sns"
   ]
  },
  {
   "cell_type": "markdown",
   "metadata": {},
   "source": [
    "## Decision Trees\n",
    "\n",
    "Today we'll cover:\n",
    "\n",
    "#####  Part 1: Decision Trees, an introduction.\n",
    "    - Anatomy of a tree.\n",
    "    - Advantages and disadvantages.\n",
    "   \n",
    "   \n",
    "##### Part 2: How a Decision Tree is trained with machine learning.\n",
    "    - The concept of purity.\n",
    "    - Entropy and other measures of purity.\n",
    "    - Greedy algorithms.\n",
    "    \n",
    "    \n",
    "##### Part 3: Implementation on the _Congress Voting Record_ dataset.\n",
    "    - Training a decision tree on a classification task using Sckit-learn.\n",
    "    - Visualizing a tree using graphviz.\n",
    "    - Feature importance.\n",
    "    - Regularization.\n",
    "    - Discussion.\n",
    "    \n"
   ]
  },
  {
   "cell_type": "markdown",
   "metadata": {},
   "source": [
    "### Decision Trees, an Introduction\n",
    "\n",
    "##### Anatomy of a decision tree\n",
    "\n",
    "On the iris dataset:\n",
    "![](http://scikit-learn.org/stable/_images/iris.svg)"
   ]
  },
  {
   "cell_type": "markdown",
   "metadata": {},
   "source": [
    "Terminology:\n",
    "    \n",
    "- Depth of the tree.\n",
    "- Acyclic.\n",
    "- Leaves, splits, branches.\n",
    "- Binary vs. Multisplit.\n"
   ]
  },
  {
   "cell_type": "markdown",
   "metadata": {},
   "source": [
    "#### Strengths  and Limitations\n",
    "\n",
    "![](http://dataconomy.com/wp-content/uploads/2015/05/2.png)"
   ]
  },
  {
   "cell_type": "markdown",
   "metadata": {},
   "source": [
    "### How to Teach a Computer to Play 20 Questions\n"
   ]
  },
  {
   "cell_type": "markdown",
   "metadata": {},
   "source": [
    "![](https://www.devteam.space/blog/wp-content/uploads/2017/04/decision-tree.png)"
   ]
  },
  {
   "cell_type": "markdown",
   "metadata": {},
   "source": [
    "We focus on the optimizing the __information gain__ with each split, a concept from information theory.\n",
    "\n",
    "A good question has two properties:\n",
    "- It splits the group in roughly equal chunks\n",
    "- It allows us to say more about those chunks than about the original group"
   ]
  },
  {
   "cell_type": "markdown",
   "metadata": {},
   "source": [
    "Most methods to train a decision tree implement a recursive greedy algorithm. Each question is chosen to maximize the purity gain resulting from the split; repeating this procedure culminates in a locally optimal sequence of questions.\n",
    "\n",
    "##### Purity of a group\n",
    "\n",
    "![image](http://cdn1.askiitians.com/Images/2017215-121423-9609-6-equal-sets.jpg)\n",
    "\n",
    "Gini impurity of a set with $J$ classes:\n",
    "\n",
    "$$1 - \\sum_{i}^{\\text{classes}} (\\text{fraction of the set that is of class i})^2$$\n",
    "\n",
    "The Gini Criterion seeks to minimize the weighted sum of the gini impurities of all groups.\n",
    "\n",
    "$$\\text{Gini Criterion}\\underset{\\text{Minimize}} \\rightarrow \\sum_{i}^{\\text{groups}} (\\text{percentage of members in group i}) \\times (\\text{gini impurity of group i})$$\n"
   ]
  },
  {
   "cell_type": "markdown",
   "metadata": {},
   "source": [
    "![](http://scikit-learn.org/stable/_images/iris.svg)"
   ]
  },
  {
   "cell_type": "markdown",
   "metadata": {},
   "source": [
    "# Example: The congressional voting record\n",
    "### Predicting the party alignment of a member of congress"
   ]
  },
  {
   "cell_type": "code",
   "execution_count": 2,
   "metadata": {},
   "outputs": [
    {
     "data": {
      "text/html": [
       "<div>\n",
       "<style>\n",
       "    .dataframe thead tr:only-child th {\n",
       "        text-align: right;\n",
       "    }\n",
       "\n",
       "    .dataframe thead th {\n",
       "        text-align: left;\n",
       "    }\n",
       "\n",
       "    .dataframe tbody tr th {\n",
       "        vertical-align: top;\n",
       "    }\n",
       "</style>\n",
       "<table border=\"1\" class=\"dataframe\">\n",
       "  <thead>\n",
       "    <tr style=\"text-align: right;\">\n",
       "      <th></th>\n",
       "      <th>party</th>\n",
       "      <th>handicapped-infants</th>\n",
       "      <th>water-project-cost-sharing</th>\n",
       "      <th>adoption-of-the-budget-resolution</th>\n",
       "      <th>physician-fee-freeze</th>\n",
       "      <th>el-salvador-aid</th>\n",
       "      <th>religious-groups-in-schools</th>\n",
       "      <th>anti-satellite-test-ban</th>\n",
       "      <th>aid-to-nicaraguan-contras</th>\n",
       "      <th>mx-missile</th>\n",
       "      <th>immigration</th>\n",
       "      <th>synfuels-corporation-cutback</th>\n",
       "      <th>education-spending</th>\n",
       "      <th>superfund-right-to-sue</th>\n",
       "      <th>crime</th>\n",
       "      <th>duty-free-exports</th>\n",
       "      <th>export-administration-act-south-africa</th>\n",
       "    </tr>\n",
       "  </thead>\n",
       "  <tbody>\n",
       "    <tr>\n",
       "      <th>0</th>\n",
       "      <td>republican</td>\n",
       "      <td>n</td>\n",
       "      <td>y</td>\n",
       "      <td>n</td>\n",
       "      <td>y</td>\n",
       "      <td>y</td>\n",
       "      <td>y</td>\n",
       "      <td>n</td>\n",
       "      <td>n</td>\n",
       "      <td>n</td>\n",
       "      <td>y</td>\n",
       "      <td>?</td>\n",
       "      <td>y</td>\n",
       "      <td>y</td>\n",
       "      <td>y</td>\n",
       "      <td>n</td>\n",
       "      <td>y</td>\n",
       "    </tr>\n",
       "    <tr>\n",
       "      <th>1</th>\n",
       "      <td>republican</td>\n",
       "      <td>n</td>\n",
       "      <td>y</td>\n",
       "      <td>n</td>\n",
       "      <td>y</td>\n",
       "      <td>y</td>\n",
       "      <td>y</td>\n",
       "      <td>n</td>\n",
       "      <td>n</td>\n",
       "      <td>n</td>\n",
       "      <td>n</td>\n",
       "      <td>n</td>\n",
       "      <td>y</td>\n",
       "      <td>y</td>\n",
       "      <td>y</td>\n",
       "      <td>n</td>\n",
       "      <td>?</td>\n",
       "    </tr>\n",
       "    <tr>\n",
       "      <th>2</th>\n",
       "      <td>democrat</td>\n",
       "      <td>?</td>\n",
       "      <td>y</td>\n",
       "      <td>y</td>\n",
       "      <td>?</td>\n",
       "      <td>y</td>\n",
       "      <td>y</td>\n",
       "      <td>n</td>\n",
       "      <td>n</td>\n",
       "      <td>n</td>\n",
       "      <td>n</td>\n",
       "      <td>y</td>\n",
       "      <td>n</td>\n",
       "      <td>y</td>\n",
       "      <td>y</td>\n",
       "      <td>n</td>\n",
       "      <td>n</td>\n",
       "    </tr>\n",
       "    <tr>\n",
       "      <th>3</th>\n",
       "      <td>democrat</td>\n",
       "      <td>n</td>\n",
       "      <td>y</td>\n",
       "      <td>y</td>\n",
       "      <td>n</td>\n",
       "      <td>?</td>\n",
       "      <td>y</td>\n",
       "      <td>n</td>\n",
       "      <td>n</td>\n",
       "      <td>n</td>\n",
       "      <td>n</td>\n",
       "      <td>y</td>\n",
       "      <td>n</td>\n",
       "      <td>y</td>\n",
       "      <td>n</td>\n",
       "      <td>n</td>\n",
       "      <td>y</td>\n",
       "    </tr>\n",
       "    <tr>\n",
       "      <th>4</th>\n",
       "      <td>democrat</td>\n",
       "      <td>y</td>\n",
       "      <td>y</td>\n",
       "      <td>y</td>\n",
       "      <td>n</td>\n",
       "      <td>y</td>\n",
       "      <td>y</td>\n",
       "      <td>n</td>\n",
       "      <td>n</td>\n",
       "      <td>n</td>\n",
       "      <td>n</td>\n",
       "      <td>y</td>\n",
       "      <td>?</td>\n",
       "      <td>y</td>\n",
       "      <td>y</td>\n",
       "      <td>y</td>\n",
       "      <td>y</td>\n",
       "    </tr>\n",
       "  </tbody>\n",
       "</table>\n",
       "</div>"
      ],
      "text/plain": [
       "        party handicapped-infants water-project-cost-sharing  \\\n",
       "0  republican                   n                          y   \n",
       "1  republican                   n                          y   \n",
       "2    democrat                   ?                          y   \n",
       "3    democrat                   n                          y   \n",
       "4    democrat                   y                          y   \n",
       "\n",
       "  adoption-of-the-budget-resolution physician-fee-freeze el-salvador-aid  \\\n",
       "0                                 n                    y               y   \n",
       "1                                 n                    y               y   \n",
       "2                                 y                    ?               y   \n",
       "3                                 y                    n               ?   \n",
       "4                                 y                    n               y   \n",
       "\n",
       "  religious-groups-in-schools anti-satellite-test-ban  \\\n",
       "0                           y                       n   \n",
       "1                           y                       n   \n",
       "2                           y                       n   \n",
       "3                           y                       n   \n",
       "4                           y                       n   \n",
       "\n",
       "  aid-to-nicaraguan-contras mx-missile immigration  \\\n",
       "0                         n          n           y   \n",
       "1                         n          n           n   \n",
       "2                         n          n           n   \n",
       "3                         n          n           n   \n",
       "4                         n          n           n   \n",
       "\n",
       "  synfuels-corporation-cutback education-spending superfund-right-to-sue  \\\n",
       "0                            ?                  y                      y   \n",
       "1                            n                  y                      y   \n",
       "2                            y                  n                      y   \n",
       "3                            y                  n                      y   \n",
       "4                            y                  ?                      y   \n",
       "\n",
       "  crime duty-free-exports export-administration-act-south-africa  \n",
       "0     y                 n                                      y  \n",
       "1     y                 n                                      ?  \n",
       "2     y                 n                                      n  \n",
       "3     n                 n                                      y  \n",
       "4     y                 y                                      y  "
      ]
     },
     "execution_count": 2,
     "metadata": {},
     "output_type": "execute_result"
    }
   ],
   "source": [
    "# Loading the data\n",
    "issues =['handicapped-infants',\n",
    "         'water-project-cost-sharing',\n",
    "         'adoption-of-the-budget-resolution',\n",
    "         'physician-fee-freeze',\n",
    "         'el-salvador-aid',\n",
    "         'religious-groups-in-schools',\n",
    "         'anti-satellite-test-ban',\n",
    "         'aid-to-nicaraguan-contras',\n",
    "         'mx-missile',\n",
    "         'immigration',\n",
    "         'synfuels-corporation-cutback',\n",
    "         'education-spending',\n",
    "         'superfund-right-to-sue',\n",
    "         'crime',\n",
    "         'duty-free-exports',\n",
    "         'export-administration-act-south-africa']\n",
    "\n",
    "column_names = ['party'] + issues\n",
    "df = pd.read_csv('https://archive.ics.uci.edu/' +\n",
    "                 'ml/machine-learning-databases/' +\n",
    "                 'voting-records/house-votes-84.data', names = column_names)\n",
    "df.head()"
   ]
  },
  {
   "cell_type": "code",
   "execution_count": 3,
   "metadata": {
    "collapsed": true
   },
   "outputs": [],
   "source": [
    "y = df['party'].map({'republican':0,'democrat':1})\n",
    "X = df[issues]\n",
    "X = X.applymap(lambda x: {'n':-1, 'y':1, '?': '0'}[x])"
   ]
  },
  {
   "cell_type": "markdown",
   "metadata": {},
   "source": [
    "#### Training a decision tree (with sklearn)"
   ]
  },
  {
   "cell_type": "code",
   "execution_count": 4,
   "metadata": {},
   "outputs": [
    {
     "data": {
      "text/plain": [
       "DecisionTreeClassifier(class_weight=None, criterion='gini', max_depth=1,\n",
       "            max_features=None, max_leaf_nodes=None,\n",
       "            min_impurity_decrease=0.0, min_impurity_split=None,\n",
       "            min_samples_leaf=1, min_samples_split=2,\n",
       "            min_weight_fraction_leaf=0.0, presort=False, random_state=None,\n",
       "            splitter='best')"
      ]
     },
     "execution_count": 4,
     "metadata": {},
     "output_type": "execute_result"
    }
   ],
   "source": [
    "from sklearn.tree import DecisionTreeClassifier\n",
    "\n",
    "dtc = DecisionTreeClassifier(max_depth = 1)\n",
    "\n",
    "dtc.fit(X,y)"
   ]
  },
  {
   "cell_type": "code",
   "execution_count": 5,
   "metadata": {},
   "outputs": [
    {
     "name": "stdout",
     "output_type": "stream",
     "text": [
      "baseline: 0.6137931034482759\n",
      "accuracy: 0.95632183908\n"
     ]
    }
   ],
   "source": [
    "print('baseline:', y.mean())\n",
    "print('accuracy:', dtc.score(X,y))"
   ]
  },
  {
   "cell_type": "markdown",
   "metadata": {},
   "source": [
    "#### Visualizing a graph (with graphviz)"
   ]
  },
  {
   "cell_type": "code",
   "execution_count": 6,
   "metadata": {},
   "outputs": [
    {
     "data": {
      "image/svg+xml": [
       "<?xml version=\"1.0\" encoding=\"UTF-8\" standalone=\"no\"?>\n",
       "<!DOCTYPE svg PUBLIC \"-//W3C//DTD SVG 1.1//EN\"\n",
       " \"http://www.w3.org/Graphics/SVG/1.1/DTD/svg11.dtd\">\n",
       "<!-- Generated by graphviz version 2.40.1 (20161225.0304)\n",
       " -->\n",
       "<!-- Title: Tree Pages: 1 -->\n",
       "<svg width=\"244pt\" height=\"158pt\"\n",
       " viewBox=\"0.00 0.00 244.04 158.00\" xmlns=\"http://www.w3.org/2000/svg\" xmlns:xlink=\"http://www.w3.org/1999/xlink\">\n",
       "<g id=\"graph0\" class=\"graph\" transform=\"scale(1 1) rotate(0) translate(4 154)\">\n",
       "<title>Tree</title>\n",
       "<polygon fill=\"#ffffff\" stroke=\"transparent\" points=\"-4,4 -4,-154 240.0371,-154 240.0371,4 -4,4\"/>\n",
       "<!-- 0 -->\n",
       "<g id=\"node1\" class=\"node\">\n",
       "<title>0</title>\n",
       "<polygon fill=\"#399de5\" fill-opacity=\"0.372549\" stroke=\"#000000\" points=\"200.8092,-150 30.7279,-150 30.7279,-86 200.8092,-86 200.8092,-150\"/>\n",
       "<text text-anchor=\"middle\" x=\"115.7686\" y=\"-134.8\" font-family=\"Times,serif\" font-size=\"14.00\" fill=\"#000000\">physician&#45;fee&#45;freeze &lt;= 0.5</text>\n",
       "<text text-anchor=\"middle\" x=\"115.7686\" y=\"-120.8\" font-family=\"Times,serif\" font-size=\"14.00\" fill=\"#000000\">gini = 0.474</text>\n",
       "<text text-anchor=\"middle\" x=\"115.7686\" y=\"-106.8\" font-family=\"Times,serif\" font-size=\"14.00\" fill=\"#000000\">samples = 435</text>\n",
       "<text text-anchor=\"middle\" x=\"115.7686\" y=\"-92.8\" font-family=\"Times,serif\" font-size=\"14.00\" fill=\"#000000\">value = [168, 267]</text>\n",
       "</g>\n",
       "<!-- 1 -->\n",
       "<g id=\"node2\" class=\"node\">\n",
       "<title>1</title>\n",
       "<polygon fill=\"#399de5\" fill-opacity=\"0.980392\" stroke=\"#000000\" points=\"105.3067,-50 .2304,-50 .2304,0 105.3067,0 105.3067,-50\"/>\n",
       "<text text-anchor=\"middle\" x=\"52.7686\" y=\"-34.8\" font-family=\"Times,serif\" font-size=\"14.00\" fill=\"#000000\">gini = 0.038</text>\n",
       "<text text-anchor=\"middle\" x=\"52.7686\" y=\"-20.8\" font-family=\"Times,serif\" font-size=\"14.00\" fill=\"#000000\">samples = 258</text>\n",
       "<text text-anchor=\"middle\" x=\"52.7686\" y=\"-6.8\" font-family=\"Times,serif\" font-size=\"14.00\" fill=\"#000000\">value = [5, 253]</text>\n",
       "</g>\n",
       "<!-- 0&#45;&gt;1 -->\n",
       "<g id=\"edge1\" class=\"edge\">\n",
       "<title>0&#45;&gt;1</title>\n",
       "<path fill=\"none\" stroke=\"#000000\" d=\"M94.0875,-85.9947C88.0456,-77.0756 81.4682,-67.3661 75.3745,-58.3706\"/>\n",
       "<polygon fill=\"#000000\" stroke=\"#000000\" points=\"78.2198,-56.3303 69.7135,-50.014 72.4243,-60.2562 78.2198,-56.3303\"/>\n",
       "<text text-anchor=\"middle\" x=\"64.9924\" y=\"-70.3642\" font-family=\"Times,serif\" font-size=\"14.00\" fill=\"#000000\">True</text>\n",
       "</g>\n",
       "<!-- 2 -->\n",
       "<g id=\"node3\" class=\"node\">\n",
       "<title>2</title>\n",
       "<polygon fill=\"#e58139\" fill-opacity=\"0.913725\" stroke=\"#000000\" points=\"235.8066,-50 123.7305,-50 123.7305,0 235.8066,0 235.8066,-50\"/>\n",
       "<text text-anchor=\"middle\" x=\"179.7686\" y=\"-34.8\" font-family=\"Times,serif\" font-size=\"14.00\" fill=\"#000000\">gini = 0.146</text>\n",
       "<text text-anchor=\"middle\" x=\"179.7686\" y=\"-20.8\" font-family=\"Times,serif\" font-size=\"14.00\" fill=\"#000000\">samples = 177</text>\n",
       "<text text-anchor=\"middle\" x=\"179.7686\" y=\"-6.8\" font-family=\"Times,serif\" font-size=\"14.00\" fill=\"#000000\">value = [163, 14]</text>\n",
       "</g>\n",
       "<!-- 0&#45;&gt;2 -->\n",
       "<g id=\"edge2\" class=\"edge\">\n",
       "<title>0&#45;&gt;2</title>\n",
       "<path fill=\"none\" stroke=\"#000000\" d=\"M137.7937,-85.9947C143.9316,-77.0756 150.6134,-67.3661 156.8038,-58.3706\"/>\n",
       "<polygon fill=\"#000000\" stroke=\"#000000\" points=\"159.7688,-60.2361 162.5546,-50.014 154.0023,-56.2677 159.7688,-60.2361\"/>\n",
       "<text text-anchor=\"middle\" x=\"167.0956\" y=\"-70.3982\" font-family=\"Times,serif\" font-size=\"14.00\" fill=\"#000000\">False</text>\n",
       "</g>\n",
       "</g>\n",
       "</svg>\n"
      ],
      "text/plain": [
       "<graphviz.files.Source at 0x1a14d04fd0>"
      ]
     },
     "execution_count": 6,
     "metadata": {},
     "output_type": "execute_result"
    }
   ],
   "source": [
    "from sklearn.tree import export_graphviz\n",
    "import graphviz\n",
    "\n",
    "graph_data = export_graphviz(dtc, out_file=None, feature_names=issues, filled=True)\n",
    "\n",
    "graphviz.Source(graph_data)"
   ]
  },
  {
   "cell_type": "markdown",
   "metadata": {},
   "source": [
    "Reference material on computing the gini impurity and information gain:"
   ]
  },
  {
   "cell_type": "code",
   "execution_count": 7,
   "metadata": {},
   "outputs": [
    {
     "name": "stdout",
     "output_type": "stream",
     "text": [
      "Left branch:  0.03800853314103736\n",
      "Right branch: 0.14567972166363452\n"
     ]
    }
   ],
   "source": [
    "#Computing the gini impurity by hand: \n",
    "\n",
    "print('Left branch: ', 1 - (5/258)**2 - (253/258)**2)\n",
    "print('Right branch:', 1 - (14/177)**2 - (163/177)**2)\n"
   ]
  },
  {
   "cell_type": "code",
   "execution_count": 8,
   "metadata": {},
   "outputs": [
    {
     "name": "stdout",
     "output_type": "stream",
     "text": [
      "Impurity of parent node: 0.47\n",
      "Weighted impurity of children nodes: 0.08\n"
     ]
    }
   ],
   "source": [
    "#Computing information gain by hand: \n",
    "\n",
    "impurity_of_parent_node = 0.474\n",
    "samples = 435\n",
    "\n",
    "impurity_of_left_branch = 0.038\n",
    "samples_left_branch = 258\n",
    "left_fraction = samples_left_branch/samples\n",
    "\n",
    "impurity_of_right_branch = 0.146\n",
    "samples_right_branch = 163\n",
    "right_fraction = samples_right_branch/samples\n",
    "\n",
    "impurity_of_children_nodes = impurity_of_left_branch*left_fraction \\\n",
    "                             + impurity_of_right_branch*right_fraction\n",
    "      \n",
    "print('Impurity of parent node: {:.2f}'.format(impurity_of_parent_node))\n",
    "print('Weighted impurity of children nodes: {:.2f}'.format(impurity_of_children_nodes))"
   ]
  },
  {
   "cell_type": "markdown",
   "metadata": {},
   "source": [
    "#### Measuring feature importance"
   ]
  },
  {
   "cell_type": "code",
   "execution_count": 9,
   "metadata": {},
   "outputs": [
    {
     "data": {
      "image/png": "[encoded data removed]",
      "text/plain": [
       "<matplotlib.figure.Figure at 0x1a14d67f60>"
      ]
     },
     "metadata": {},
     "output_type": "display_data"
    }
   ],
   "source": [
    "pd.Series(index=issues, data=dtc.feature_importances_).plot(kind = 'barh')\n",
    "plt.show()"
   ]
  },
  {
   "cell_type": "markdown",
   "metadata": {},
   "source": [
    "## Practice\n",
    "\n",
    "In groups of two:\n",
    "\n",
    "- Explore the options in \n",
    "    \n",
    "        DecisionTreeClassifier() \n",
    "    \n",
    "- Train a decision tree classifier to have the best out of sample performance.\n",
    "\n",
    "\n",
    "- Upload a visualization of your model to slack."
   ]
  },
  {
   "cell_type": "code",
   "execution_count": 10,
   "metadata": {},
   "outputs": [],
   "source": [
    "from sklearn.model_selection import train_test_split\n",
    "\n",
    "X_train, X_test, y_train, y_test = train_test_split(X,y, test_size = 0.2)"
   ]
  },
  {
   "cell_type": "markdown",
   "metadata": {},
   "source": [
    "---\n",
    "# Start of cut content for after independent practice\n",
    "---"
   ]
  },
  {
   "cell_type": "code",
   "execution_count": 11,
   "metadata": {
    "code_folding": []
   },
   "outputs": [
    {
     "name": "stdout",
     "output_type": "stream",
     "text": [
      "Fitting 3 folds for each of 2100 candidates, totalling 6300 fits\n"
     ]
    },
    {
     "name": "stderr",
     "output_type": "stream",
     "text": [
      "[Parallel(n_jobs=-1)]: Done 420 tasks      | elapsed:    0.6s\n",
      "[Parallel(n_jobs=-1)]: Done 6300 out of 6300 | elapsed:    3.0s finished\n"
     ]
    },
    {
     "data": {
      "text/plain": [
       "DecisionTreeClassifier(class_weight=None, criterion='gini', max_depth=None,\n",
       "            max_features=None, max_leaf_nodes=None,\n",
       "            min_impurity_decrease=0.0, min_impurity_split=None,\n",
       "            min_samples_leaf=4, min_samples_split=16,\n",
       "            min_weight_fraction_leaf=0.0, presort=False, random_state=1,\n",
       "            splitter='best')"
      ]
     },
     "execution_count": 11,
     "metadata": {},
     "output_type": "execute_result"
    }
   ],
   "source": [
    "from sklearn.model_selection import GridSearchCV\n",
    "\n",
    "parameter_grid = {'criterion':['gini','entropy'], \n",
    "                  'max_depth':[None,1,2,4,8,16], \n",
    "                  'min_samples_split':[2,4,8,16,32], \n",
    "                  'min_samples_leaf':[1,2,3,4,5], \n",
    "                  'max_features':[None,'auto','sqrt','log2',0.25,0.5,0.75],\n",
    "                  'random_state':[1]}\n",
    "    \n",
    "rfc = DecisionTreeClassifier()\n",
    "\n",
    "gs = GridSearchCV(rfc, param_grid=parameter_grid, cv = 3, n_jobs= -1, verbose=1)\n",
    "\n",
    "gs.fit(X_train,y_train)\n",
    "gs.best_estimator_"
   ]
  },
  {
   "cell_type": "code",
   "execution_count": 12,
   "metadata": {},
   "outputs": [
    {
     "name": "stdout",
     "output_type": "stream",
     "text": [
      "0.965517241379\n",
      "0.954022988506\n"
     ]
    }
   ],
   "source": [
    "print(gs.best_estimator_.score(X_train, y_train))\n",
    "print(gs.best_estimator_.score(X_test, y_test))"
   ]
  },
  {
   "cell_type": "markdown",
   "metadata": {},
   "source": [
    "---\n",
    "# End of cut content for after independent practice\n",
    "---"
   ]
  },
  {
   "cell_type": "markdown",
   "metadata": {},
   "source": [
    "### Teaser on random forest"
   ]
  },
  {
   "cell_type": "code",
   "execution_count": 13,
   "metadata": {
    "collapsed": true
   },
   "outputs": [],
   "source": [
    "from sklearn.metrics import accuracy_score\n",
    "\n",
    "def vote(sequences):\n",
    "    democratic_predictions = [np.round(np.mean(x)) for x in zip(sequences)]\n",
    "    return democratic_predictions"
   ]
  },
  {
   "cell_type": "code",
   "execution_count": 14,
   "metadata": {},
   "outputs": [],
   "source": [
    "sequences = []\n",
    "\n",
    "# accuracy_score(y_test, vote(sequences))"
   ]
  }
 ],
 "metadata": {
  "kernelspec": {
   "display_name": "Python 3",
   "language": "python",
   "name": "python3"
  },
  "language_info": {
   "codemirror_mode": {
    "name": "ipython",
    "version": 3
   },
   "file_extension": ".py",
   "mimetype": "text/x-python",
   "name": "python",
   "nbconvert_exporter": "python",
   "pygments_lexer": "ipython3",
   "version": "3.6.2"
  }
 },
 "nbformat": 4,
 "nbformat_minor": 2
}
